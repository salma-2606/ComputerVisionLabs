{
 "cells": [
  {
   "cell_type": "markdown",
   "id": "10e3ecd3",
   "metadata": {},
   "source": [
    "## Segmentation using YOLO\n"
   ]
  },
  {
   "cell_type": "code",
   "execution_count": 3,
   "id": "75010aef",
   "metadata": {},
   "outputs": [],
   "source": [
    "from ultralytics import YOLO\n",
    "import random\n",
    "import cv2\n",
    "import numpy as np"
   ]
  },
  {
   "cell_type": "code",
   "execution_count": 4,
   "id": "1d2c0f07",
   "metadata": {},
   "outputs": [],
   "source": [
    "# Load the YOLO segmentation model\n",
    "model = YOLO(\"../yolov8n-seg.pt\")"
   ]
  },
  {
   "cell_type": "code",
   "execution_count": 5,
   "id": "a97b66c0",
   "metadata": {},
   "outputs": [],
   "source": [
    "# Read the input image\n",
    "img = cv2.imread(\"input_image.jpeg\")"
   ]
  },
  {
   "cell_type": "code",
   "execution_count": 6,
   "id": "1ef0810f",
   "metadata": {},
   "outputs": [],
   "source": [
    "# Get all class names from the YOLO model\n",
    "yolo_classes = list(model.names.values())"
   ]
  },
  {
   "cell_type": "code",
   "execution_count": 7,
   "id": "5fd85ff3",
   "metadata": {},
   "outputs": [
    {
     "name": "stdout",
     "output_type": "stream",
     "text": [
      "\n",
      "0: 640x448 9 persons, 1 chair, 2 laptops, 711.4ms\n",
      "Speed: 8.3ms preprocess, 711.4ms inference, 69.6ms postprocess per image at shape (1, 3, 640, 448)\n"
     ]
    }
   ],
   "source": [
    "# Perform segmentation prediction\n",
    "results = model.predict(img, conf=0.5)\n",
    "colors = [random.choices(range(256), k=3) for _ in yolo_classes]  # Generate random colors for each class"
   ]
  },
  {
   "cell_type": "code",
   "execution_count": 8,
   "id": "6df86c48",
   "metadata": {},
   "outputs": [],
   "source": [
    "# Iterate through detected results\n",
    "for result in results:\n",
    "    for mask, box in zip(result.masks.xy, result.boxes):\n",
    "        # Convert mask to integer coordinates\n",
    "        points = np.int32([mask])\n",
    "        \n",
    "        # Get the class ID and corresponding color\n",
    "        class_id = int(box.cls[0])\n",
    "        color = colors[class_id]\n",
    "        \n",
    "        # Fill the mask region with the corresponding color\n",
    "        cv2.fillPoly(img, points, color)"
   ]
  },
  {
   "cell_type": "code",
   "execution_count": 9,
   "id": "3595181f",
   "metadata": {},
   "outputs": [
    {
     "data": {
      "text/plain": [
       "True"
      ]
     },
     "execution_count": 9,
     "metadata": {},
     "output_type": "execute_result"
    }
   ],
   "source": [
    "# Display the image with segmentation\n",
    "cv2.imshow(\"Segmented Image\", img)\n",
    "cv2.waitKey(0)\n",
    "\n",
    "# Save the output image\n",
    "cv2.imwrite(\"output_image.jpg\", img)  # Replace with your desired save path"
   ]
  }
 ],
 "metadata": {
  "kernelspec": {
   "display_name": "Python 3 (ipykernel)",
   "language": "python",
   "name": "python3"
  },
  "language_info": {
   "codemirror_mode": {
    "name": "ipython",
    "version": 3
   },
   "file_extension": ".py",
   "mimetype": "text/x-python",
   "name": "python",
   "nbconvert_exporter": "python",
   "pygments_lexer": "ipython3",
   "version": "3.11.5"
  }
 },
 "nbformat": 4,
 "nbformat_minor": 5
}
